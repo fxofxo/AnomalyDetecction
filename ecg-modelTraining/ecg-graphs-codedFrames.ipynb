{
 "cells": [
  {
   "cell_type": "markdown",
   "metadata": {},
   "source": [
    "## 04. Graph coded frames"
   ]
  },
  {
   "cell_type": "code",
   "execution_count": null,
   "metadata": {
    "collapsed": true
   },
   "outputs": [],
   "source": [
    "\n",
    "import matplotlib\n",
    "import numpy as np\n",
    "import matplotlib.pyplot as plt\n",
    "import matplotlib.mlab as mlab\n",
    "sc.version"
   ]
  },
  {
   "cell_type": "code",
   "execution_count": null,
   "metadata": {
    "collapsed": true
   },
   "outputs": [],
   "source": [
    "scale = 1/200.0\n",
    "samplesPerSecond = 100\n",
    "\n",
    "WINDOW = 40   # 32 or 40 samples per window\n",
    "WindowsPerFrame = 150 # 32 or 150 \n",
    "\n",
    "\n",
    "samplesPerFrame = WindowsPerFrame * WINDOW\n",
    "secondPerFrame = samplesPerFrame // samplesPerSecond\n",
    "\n",
    "#inputDataFile = \"a02.dat\"\n",
    "inputDataFile = \"100s1.dat\"\n",
    "\n",
    "codedFramesRootPath = \"/user/fsainz/data/out/coded/\"\n",
    "\n",
    "frame2graph = \"2017/12/14/16/25/42-59142752\"\n",
    "\n",
    "filesPath = codedFramesRootPath + frame2graph"
   ]
  },
  {
   "cell_type": "code",
   "execution_count": null,
   "metadata": {},
   "outputs": [],
   "source": [
    "print(\"Procesing: \" + filesPath )"
   ]
  },
  {
   "cell_type": "code",
   "execution_count": null,
   "metadata": {
    "collapsed": true
   },
   "outputs": [],
   "source": [
    "eventsStrRdd = sc.textFile(filesPath)"
   ]
  },
  {
   "cell_type": "code",
   "execution_count": null,
   "metadata": {
    "collapsed": true
   },
   "outputs": [],
   "source": [
    "eventsStrRdd.count\n",
    "e = eventsStrRdd.first()"
   ]
  },
  {
   "cell_type": "code",
   "execution_count": null,
   "metadata": {
    "collapsed": true
   },
   "outputs": [],
   "source": []
  },
  {
   "cell_type": "code",
   "execution_count": null,
   "metadata": {
    "collapsed": true
   },
   "outputs": [],
   "source": [
    "def getFields( line ):\n",
    "    line = line[1:-1]  # get rid of parenthesis\n",
    "    line = line.split(';')\n",
    "    #ret = ret.split(',')\n",
    "    srcFrame =  list(map(  lambda x: float(x) , line[1].split(',')))\n",
    "    codedFrame =list(map( lambda x: float(x) , line[2].split(',')))\n",
    "    lossFrame = list(map( lambda x: float(x) , line[3].split(',')))\n",
    "    ret = line[0].split(',')\n",
    "    ret = ret[:-1]\n",
    "    ret.extend([srcFrame,codedFrame,lossFrame])\n",
    "    ret[1] = float(ret[1])\n",
    "    ret[2] = float(ret[2])\n",
    "    ret[3] = float(ret[3])\n",
    "    return ret\n",
    "    # return (ret, srcFrame, codedFrame, lossFrame)"
   ]
  },
  {
   "cell_type": "code",
   "execution_count": null,
   "metadata": {
    "collapsed": true
   },
   "outputs": [],
   "source": [
    "codedframesRdd = eventsStrRdd.map( lambda x: getFields(x)   )"
   ]
  },
  {
   "cell_type": "code",
   "execution_count": null,
   "metadata": {
    "collapsed": true
   },
   "outputs": [],
   "source": [
    "nsamples = codedframesRdd.count()\n",
    "sample = codedframesRdd.collect()"
   ]
  },
  {
   "cell_type": "code",
   "execution_count": null,
   "metadata": {
    "scrolled": true
   },
   "outputs": [],
   "source": [
    "item=2\n",
    "print( np.max(sample[item][5]),  np.max(sample[item][6]),  np.max(sample[item][7] ))"
   ]
  },
  {
   "cell_type": "code",
   "execution_count": null,
   "metadata": {},
   "outputs": [],
   "source": [
    "len(sample[3][5])"
   ]
  },
  {
   "cell_type": "code",
   "execution_count": null,
   "metadata": {
    "scrolled": true
   },
   "outputs": [],
   "source": [
    "\n",
    "l = len(sample[item][5])\n",
    "x = range(00,l)\n",
    "\n",
    "fig, ax = plt.subplots(2,1,sharey=True, sharex=True,figsize=(20,6))\n",
    "\n",
    "ax[0].plot(x, sample[item][5],\"green\")\n",
    "ax[0].plot(x, sample[item][6], 'gray', linewidth=1)\n",
    "ax[1].plot(x, sample[item][7], 'gray', linewidth=1)\n",
    "display(fig)\n"
   ]
  },
  {
   "cell_type": "code",
   "execution_count": null,
   "metadata": {
    "collapsed": true
   },
   "outputs": [],
   "source": [
    "item\n",
    "from matplotlib import gridspec\n",
    "f, (a0, a1) = plt.subplots(1,2, gridspec_kw = {'width_ratios':[3, 1]})"
   ]
  },
  {
   "cell_type": "code",
   "execution_count": null,
   "metadata": {},
   "outputs": [],
   "source": [
    "mu, sigma = 100, 15\n",
    "x = mu + sigma*np.random.randn(10000)\n",
    "\n",
    "\n",
    "fig, ax = plt.subplots(1,2,figsize=(20,3), gridspec_kw = {'width_ratios':[3, 1]})\n",
    "\n",
    "# the histogram of the data\n",
    "n, bins, patches = ax[1].hist( sample[item][7], 50, normed=1, facecolor='green' )\n",
    "# add a 'best fit' line\n",
    "y = mlab.normpdf( bins, mu, sigma)\n",
    "#l = ax[1].plot(bins, y, 'r--', linewidth=1)\n",
    "\n",
    "#plt.xlabel('Smarts')\n",
    "#plt.ylabel('Probability')\n",
    "#plt.title(r'$\\mathrm{Histogram\\ of\\ IQ:}\\ \\mu=100,\\ \\sigma=15$')\n",
    "#plt.axis([40, 160, 0, 0.03])\n",
    "ax[1].grid(True)\n",
    "display(fig)\n"
   ]
  },
  {
   "cell_type": "code",
   "execution_count": null,
   "metadata": {},
   "outputs": [],
   "source": [
    "len(bins)"
   ]
  },
  {
   "cell_type": "code",
   "execution_count": null,
   "metadata": {},
   "outputs": [],
   "source": [
    "\n",
    "l = len(sample[item][5])\n",
    "x = range(00,l)\n",
    "nsamples = codedframesRdd.count()\n",
    "fig, ax = plt.subplots(nsamples,2,figsize=(20,20), gridspec_kw = {'width_ratios':[4, 1]})\n",
    "for item in range(0,nsamples):\n",
    "    #ax[item].plot(x, sample[item][5], \"green\")\n",
    "   # ax[0].plot(x, sample[item][6], 'gray', linewidth=1)\n",
    "   ax[item][0].plot(x, sample[item][7], 'gray', linewidth=1)\n",
    "   # the histogram of the data\n",
    "   n, bins, patches = ax[item][1].hist( sample[item][7], 50, normed=1, facecolor='green')\n",
    "                                                                                       \n",
    "    \n",
    "display(fig)"
   ]
  },
  {
   "cell_type": "code",
   "execution_count": null,
   "metadata": {
    "collapsed": true
   },
   "outputs": [],
   "source": [
    "\n",
    "\n",
    "x1 = 2200\n",
    "x2 = 2400\n",
    "l = len(sample[0][0][x1:x2])\n",
    "x = range(x1,x2)\n",
    "fig, ax = plt.subplots(2,1,sharey=True, sharex=True,figsize=(20,6))\n",
    "ax[0].plot(x, sample[item][0][x1:x2],\"green\")\n",
    "ax[0].plot(x, sample[item][1][x1:x2], 'gray', linewidth=1)\n",
    "ax[1].plot(x, sample[item][2][x1:x2], 'gray', linewidth=1)\n",
    "display(fig)"
   ]
  },
  {
   "cell_type": "code",
   "execution_count": null,
   "metadata": {
    "collapsed": true
   },
   "outputs": [],
   "source": [
    "\n",
    "\n",
    "x1 = 1\n",
    "x2 = 200\n",
    "l = len(sample[0][0][x1:x2])\n",
    "x = range(x1,x2)\n",
    "fig, ax = plt.subplots(2,1,sharey=True, sharex=True,figsize=(20,6))\n",
    "ax[0].plot(x, sample[item][0][x1:x2],\"green\")\n",
    "ax[0].plot(x, sample[item][1][x1:x2], 'gray', linewidth=1)\n",
    "ax[1].plot(x, sample[item][2][x1:x2], 'gray', linewidth=1)\n",
    "display(fig)"
   ]
  },
  {
   "cell_type": "code",
   "execution_count": null,
   "metadata": {
    "collapsed": true
   },
   "outputs": [],
   "source": []
  }
 ],
 "metadata": {
  "kernelspec": {
   "display_name": "PySpark",
   "language": "python",
   "name": "pyspark"
  },
  "language_info": {
   "codemirror_mode": {
    "name": "ipython",
    "version": 3
   },
   "file_extension": ".py",
   "mimetype": "text/x-python",
   "name": "python",
   "nbconvert_exporter": "python",
   "pygments_lexer": "ipython3",
   "version": "3.5.4"
  }
 },
 "nbformat": 4,
 "nbformat_minor": 2
}
