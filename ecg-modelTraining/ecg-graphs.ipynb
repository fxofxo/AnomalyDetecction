{
 "cells": [
  {
   "cell_type": "markdown",
   "metadata": {},
   "source": [
    "##  Graph a coded frame sample"
   ]
  },
  {
   "cell_type": "code",
   "execution_count": null,
   "metadata": {},
   "outputs": [],
   "source": [
    "\n",
    "import matplotlib\n",
    "import numpy as np\n",
    "import matplotlib.pyplot as plt\n",
    "import matplotlib.mlab as mlab\n",
    "sc.version"
   ]
  },
  {
   "cell_type": "code",
   "execution_count": null,
   "metadata": {},
   "outputs": [],
   "source": [
    "scale = 1/200.0\n",
    "samplesPerSecond = 360\n",
    "\n",
    "WINDOW = 120   # 32 or 40 samples per window\n",
    "WindowsPerFrame = 30 # 32 or 150 \n",
    "\n",
    "\n",
    "samplesPerFrame = WindowsPerFrame * WINDOW\n",
    "secondPerFrame = samplesPerFrame // samplesPerSecond\n",
    "\n",
    "inputDataFile = \"105s1.dat\"\n",
    "#inputDataFile = \"a02.dat\"\n",
    "\n",
    "framesPath = \"/user/fsainz/data/out/framesCoded-\"+ inputDataFile.split('.')[0] + \"_\" + str(secondPerFrame) + \"sLE/\"\n"
   ]
  },
  {
   "cell_type": "code",
   "execution_count": null,
   "metadata": {},
   "outputs": [],
   "source": [
    "print(\"Procesing: \"+ framesPath)"
   ]
  },
  {
   "cell_type": "code",
   "execution_count": null,
   "metadata": {},
   "outputs": [],
   "source": [
    "eventsStrRdd = sc.textFile(framesPath).map(lambda line: line[:-1].split(\";\"))"
   ]
  },
  {
   "cell_type": "code",
   "execution_count": null,
   "metadata": {},
   "outputs": [],
   "source": [
    "item=2\n",
    "strsamples = eventsStrRdd.take(item+1)"
   ]
  },
  {
   "cell_type": "code",
   "execution_count": null,
   "metadata": {},
   "outputs": [],
   "source": []
  },
  {
   "cell_type": "code",
   "execution_count": null,
   "metadata": {},
   "outputs": [],
   "source": [
    "sample = [ list(map(lambda x: float(x), i.split(','))) for i in strsamples[item]]"
   ]
  },
  {
   "cell_type": "code",
   "execution_count": null,
   "metadata": {},
   "outputs": [],
   "source": [
    "sample"
   ]
  },
  {
   "cell_type": "code",
   "execution_count": null,
   "metadata": {},
   "outputs": [],
   "source": [
    "\n",
    "\n",
    "print( np.max(sample[0]),  np.max(sample[1]),  np.max(np.abs(sample[2]) ))"
   ]
  },
  {
   "cell_type": "code",
   "execution_count": null,
   "metadata": {},
   "outputs": [],
   "source": [
    "l\n"
   ]
  },
  {
   "cell_type": "code",
   "execution_count": null,
   "metadata": {
    "scrolled": true
   },
   "outputs": [],
   "source": [
    "\n",
    "l = len(sample[1])\n",
    "x = range(00,l)\n",
    "fig, ax = plt.subplots(3,1, sharex=True,figsize=(20,6))\n",
    "ax[0].plot(x, sample[0],\"green\")\n",
    "ax[1].plot(x, sample[1], 'gray', linewidth=1)\n",
    "ax[2].plot(x, sample[2], 'gray', linewidth=1)\n",
    "display(fig)\n"
   ]
  },
  {
   "cell_type": "code",
   "execution_count": null,
   "metadata": {},
   "outputs": [],
   "source": [
    "\n",
    "\n",
    "x1 =500\n",
    "x2 =1200\n",
    "\n",
    "l = len(sample[0][x1:x2])\n",
    "x = range(x1,x2)\n",
    "fig, ax = plt.subplots(3,1, sharex=True,figsize=(20,6))\n",
    "ax[0].plot(x, sample[0][x1:x2],\"green\")\n",
    "ax[0].plot(x, sample[1][x1:x2], 'gray', linewidth=1)\n",
    "ax[2].plot(x, sample[2][x1:x2], 'gray', linewidth=1)\n",
    "display(fig)"
   ]
  },
  {
   "cell_type": "code",
   "execution_count": null,
   "metadata": {},
   "outputs": [],
   "source": [
    "\n",
    "\n",
    "x1 = 1\n",
    "x2 = 500\n",
    "l = len(sample[0][0][x1:x2])\n",
    "x = range(x1,x2)\n",
    "fig, ax = plt.subplots(2,1, sharex=True,figsize=(20,6))\n",
    "ax[0].plot(x, sample[0][x1:x2],\"green\")\n",
    "ax[0].plot(x, sample[1][x1:x2], 'gray', linewidth=1)\n",
    "ax[1].plot(x, sample[2][x1:x2], 'gray', linewidth=1)\n",
    "display(fig)"
   ]
  },
  {
   "cell_type": "code",
   "execution_count": null,
   "metadata": {},
   "outputs": [],
   "source": [
    "0xfffc\n"
   ]
  },
  {
   "cell_type": "code",
   "execution_count": null,
   "metadata": {},
   "outputs": [],
   "source": []
  }
 ],
 "metadata": {
  "kernelspec": {
   "display_name": "Python 3",
   "language": "python",
   "name": "python3"
  },
  "language_info": {
   "codemirror_mode": {
    "name": "ipython",
    "version": 3
   },
   "file_extension": ".py",
   "mimetype": "text/x-python",
   "name": "python",
   "nbconvert_exporter": "python",
   "pygments_lexer": "ipython3",
   "version": "3.6.3"
  }
 },
 "nbformat": 4,
 "nbformat_minor": 2
}
