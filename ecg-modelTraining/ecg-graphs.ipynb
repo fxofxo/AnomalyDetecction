{
 "cells": [
  {
   "cell_type": "markdown",
   "metadata": {},
   "source": [
    "##  Graph a coded frame sample"
   ]
  },
  {
   "cell_type": "code",
   "execution_count": null,
   "metadata": {},
   "outputs": [],
   "source": [
    "\n",
    "import matplotlib\n",
    "import numpy as np\n",
    "import matplotlib.pyplot as plt\n",
    "import matplotlib.mlab as mlab\n",
    "sc.version"
   ]
  },
  {
   "cell_type": "code",
   "execution_count": null,
   "metadata": {
    "collapsed": true
   },
   "outputs": [],
   "source": [
    "scale = 1/200.0\n",
    "samplesPerSecond = 360\n",
    "\n",
    "WINDOW = 120   # 32 or 40 samples per window\n",
    "WindowsPerFrame = 180 # 32 or 150 \n",
    "\n",
    "\n",
    "samplesPerFrame = WindowsPerFrame * WINDOW\n",
    "secondPerFrame = samplesPerFrame // samplesPerSecond\n",
    "\n",
    "inputDataFile = \"105s1.dat\"\n",
    "#inputDataFile = \"a02.dat\"\n",
    "\n",
    "framesPath = \"/user/fsainz/data/out/framesCoded-\"+ inputDataFile.split('.')[0] + \"_\" + str(secondPerFrame) + \"sLE/\"\n"
   ]
  },
  {
   "cell_type": "code",
   "execution_count": null,
   "metadata": {},
   "outputs": [],
   "source": [
    "print(\"Procesing: \"+ framesPath)"
   ]
  },
  {
   "cell_type": "code",
   "execution_count": null,
   "metadata": {
    "collapsed": true
   },
   "outputs": [],
   "source": [
    "eventsStrRdd = sc.textFile(framesPath).map(lambda line: line[:-1].split(\";\"))"
   ]
  },
  {
   "cell_type": "code",
   "execution_count": null,
   "metadata": {
    "collapsed": true
   },
   "outputs": [],
   "source": [
    "eventsRdd = eventsStrRdd.map( lambda evt: list(map(lambda item: list(map(lambda i: float(i), item.split(\",\"))),evt)))"
   ]
  },
  {
   "cell_type": "code",
   "execution_count": null,
   "metadata": {},
   "outputs": [],
   "source": [
    "sample = eventsRdd.take(3)\n",
    "len(sample)"
   ]
  },
  {
   "cell_type": "code",
   "execution_count": null,
   "metadata": {},
   "outputs": [],
   "source": [
    "item=2\n",
    "\n",
    "print( np.max(sample[item][0]),  np.max(sample[item][1]),  np.max(np.abs(sample[item][2]) ))"
   ]
  },
  {
   "cell_type": "code",
   "execution_count": null,
   "metadata": {},
   "outputs": [],
   "source": [
    "l\n"
   ]
  },
  {
   "cell_type": "code",
   "execution_count": null,
   "metadata": {
    "scrolled": true
   },
   "outputs": [],
   "source": [
    "\n",
    "l = len(sample[item][0])\n",
    "x = range(00,l)\n",
    "fig, ax = plt.subplots(3,1, sharex=True,figsize=(20,6))\n",
    "ax[0].plot(x, sample[item][0],\"green\")\n",
    "ax[0].plot(x, sample[item][1], 'gray', linewidth=1)\n",
    "ax[2].plot(x, sample[item][2], 'gray', linewidth=1)\n",
    "display(fig)\n"
   ]
  },
  {
   "cell_type": "code",
   "execution_count": null,
   "metadata": {},
   "outputs": [],
   "source": [
    "\n",
    "\n",
    "x1 =4000\n",
    "x2 =5880\n",
    "\n",
    "l = len(sample[0][0][x1:x2])\n",
    "x = range(x1,x2)\n",
    "fig, ax = plt.subplots(3,1, sharex=True,figsize=(20,6))\n",
    "ax[0].plot(x, sample[item][0][x1:x2],\"green\")\n",
    "ax[0].plot(x, sample[item][1][x1:x2], 'gray', linewidth=1)\n",
    "ax[2].plot(x, sample[item][2][x1:x2], 'gray', linewidth=1)\n",
    "display(fig)"
   ]
  },
  {
   "cell_type": "code",
   "execution_count": null,
   "metadata": {},
   "outputs": [],
   "source": [
    "\n",
    "\n",
    "x1 = 1\n",
    "x2 = 500\n",
    "l = len(sample[0][0][x1:x2])\n",
    "x = range(x1,x2)\n",
    "fig, ax = plt.subplots(2,1, sharex=True,figsize=(20,6))\n",
    "ax[0].plot(x, sample[item][0][x1:x2],\"green\")\n",
    "ax[0].plot(x, sample[item][1][x1:x2], 'gray', linewidth=1)\n",
    "ax[1].plot(x, sample[item][2][x1:x2], 'gray', linewidth=1)\n",
    "display(fig)"
   ]
  },
  {
   "cell_type": "code",
   "execution_count": null,
   "metadata": {
    "collapsed": true
   },
   "outputs": [],
   "source": [
    "0xfffc\n"
   ]
  },
  {
   "cell_type": "code",
   "execution_count": null,
   "metadata": {
    "collapsed": true
   },
   "outputs": [],
   "source": []
  }
 ],
 "metadata": {
  "kernelspec": {
   "display_name": "PySpark",
   "language": "python",
   "name": "pyspark"
  },
  "language_info": {
   "codemirror_mode": {
    "name": "ipython",
    "version": 3
   },
   "file_extension": ".py",
   "mimetype": "text/x-python",
   "name": "python",
   "nbconvert_exporter": "python",
   "pygments_lexer": "ipython3",
   "version": "3.5.4"
  }
 },
 "nbformat": 4,
 "nbformat_minor": 2
}
