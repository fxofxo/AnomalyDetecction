{
 "cells": [
  {
   "cell_type": "code",
   "execution_count": 1,
   "metadata": {
    "collapsed": true
   },
   "outputs": [],
   "source": [
    "val WINDOW = 32;\n",
    "val STEP = 2;\n",
    "val SAMPLES = 200000;\n",
    "val scale = 1/200.0;\n"
   ]
  },
  {
   "cell_type": "code",
   "execution_count": 2,
   "metadata": {
    "collapsed": true
   },
   "outputs": [],
   "source": [
    "import java.io._                                                        \n",
    "import scala.collection.mutable.ListBuffer   //bE CAREFULL With java imports, better before scala."
   ]
  },
  {
   "cell_type": "code",
   "execution_count": 3,
   "metadata": {},
   "outputs": [
    {
     "data": {
      "text/plain": [
       "Name: Syntax Error.\n",
       "Message: \n",
       "StackTrace: "
      ]
     },
     "execution_count": 3,
     "metadata": {},
     "output_type": "execute_result"
    }
   ],
   "source": [
    "// Databricks\n",
    "\n",
    "//dbutils.fs.mkdirs(\"/FileStore/fxo/ted\")\n",
    "//dbutils.fs.ls(\"FileStore\")\n",
    "\n",
    "//val rootDir = \"FileStore/fxo/ted/\"\n",
    "//val fileName = \"/dbfs/\" + rootDir +\"a02.dat\"\n",
    "\n"
   ]
  },
  {
   "cell_type": "code",
   "execution_count": 4,
   "metadata": {
    "collapsed": true
   },
   "outputs": [],
   "source": [
    "// GCP\n",
    "\n",
    "val rootDir = \"/home/fsainz/src/data/\"\n",
    "val fileName = rootDir +\"a02.dat\""
   ]
  },
  {
   "cell_type": "code",
   "execution_count": 5,
   "metadata": {
    "collapsed": true
   },
   "outputs": [],
   "source": [
    "\n",
    "\n",
    "//val rawData = sc.textFile(\"/FileStore/tables/gqh5mjl51507524821196/a02.dat\", numPartitions)\n",
    "var inFile =  new File(fileName)\n",
    "var InFileStream = new FileInputStream( inFile )\n",
    "val input : DataInputStream  = new DataInputStream(InFileStream)\n",
    "\n",
    "var frames = scala.collection.mutable.ArrayBuffer.empty[Array[Double]]\n",
    "\n",
    "var pos = 0\n",
    "var available = 0\n",
    "val frameEvents = 32 * WINDOW\n",
    "val frameBytes =  frameEvents * 2 // read shorts 2 bytes..\n",
    "val nFrames = inFile.length / frameBytes\n",
    "var dataFrame = Array[Double]()\n",
    "for (  w  <- 1 to nFrames.toInt ) {\n",
    "   dataFrame = new Array[Double](frameEvents)\n",
    "    // new object is need to append at the end!!\n",
    " \n",
    "  for ( i <- 0 until frameEvents) {\n",
    "   \n",
    "    val value = input.readShort()   // two bytes\n",
    "    dataFrame( i ) = (value.toDouble * scale) \n",
    " \n",
    "    \n",
    "  }\n",
    "  frames.append(dataFrame)\n",
    "   \n",
    "}\n",
    "input.close()"
   ]
  },
  {
   "cell_type": "code",
   "execution_count": 7,
   "metadata": {},
   "outputs": [],
   "source": [
    "val csvFileName = rootDir +\"frames-a02.csv\"\n",
    "// FileWriter\n",
    "\n",
    "val file = new File(csvFileName)\n",
    "val bw = new BufferedWriter(new FileWriter(file))\n",
    "var line = \"\"\n",
    "for ( f <- frames) {\n",
    "  f.foreach( x => line +=  x.toString + \",\" )\n",
    "  bw.write(line.substring(0,line.length-1) + \"\\n\")\n",
    "  line = \"\"\n",
    " \n",
    "}\n",
    "bw.close()"
   ]
  },
  {
   "cell_type": "code",
   "execution_count": null,
   "metadata": {
    "collapsed": true
   },
   "outputs": [],
   "source": []
  }
 ],
 "metadata": {
  "kernelspec": {
   "display_name": "Apache Toree - Scala",
   "language": "scala",
   "name": "apache_toree_scala"
  },
  "language_info": {
   "file_extension": ".scala",
   "name": "scala",
   "version": "2.11.8"
  }
 },
 "nbformat": 4,
 "nbformat_minor": 2
}
