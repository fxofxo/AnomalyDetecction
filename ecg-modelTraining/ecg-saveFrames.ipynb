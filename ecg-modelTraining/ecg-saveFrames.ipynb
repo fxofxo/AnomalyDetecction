{
 "cells": [
  {
   "cell_type": "markdown",
   "metadata": {},
   "source": [
    "# Prepare input Data \n",
    "## split original ECG signal into frames"
   ]
  },
  {
   "cell_type": "code",
   "execution_count": 1,
   "metadata": {
    "collapsed": true
   },
   "outputs": [],
   "source": [
    "val WINDOW = 40   // samples per window\n",
    "val STEP = 2\n",
    "val SAMPLES = 200000\n",
    "val samplesPerSecond = 100\n",
    "\n",
    "val scale = 1/200.0\n",
    "val inputDataFile = \"a02.dat\"\n",
    "val WindowsPerFrame = 150\n",
    "\n",
    "val samplesPerFrame = WindowsPerFrame * WINDOW\n"
   ]
  },
  {
   "cell_type": "code",
   "execution_count": 2,
   "metadata": {
    "collapsed": true
   },
   "outputs": [],
   "source": [
    "import java.io._                                                        \n",
    "import scala.collection.mutable.ListBuffer   //bE CAREFULL With java imports, better before scala."
   ]
  },
  {
   "cell_type": "code",
   "execution_count": 70,
   "metadata": {},
   "outputs": [
    {
     "data": {
      "text/plain": [
       "Name: Syntax Error.\n",
       "Message: \n",
       "StackTrace: "
      ]
     },
     "execution_count": 70,
     "metadata": {},
     "output_type": "execute_result"
    }
   ],
   "source": [
    "// Databricks\n",
    "\n",
    "//dbutils.fs.mkdirs(\"/FileStore/fxo/ted\")\n",
    "//dbutils.fs.ls(\"FileStore\")\n",
    "\n",
    "//val rootDir = \"FileStore/fxo/ted/\"\n",
    "//val fileName = \"/dbfs/\" + rootDir +\"a02.dat\"\n",
    "\n"
   ]
  },
  {
   "cell_type": "code",
   "execution_count": 3,
   "metadata": {
    "collapsed": true
   },
   "outputs": [],
   "source": [
    "// GCP\n",
    "\n",
    "val rootDir = \"/home/fsainz/src/data/\"\n",
    "val fileName = rootDir + inputDataFile \n",
    "val secondPerFrame = samplesPerFrame / samplesPerSecond\n",
    "val framesFileName = \"frames-\"+ inputDataFile.split('.')(0)+\"_\" + secondPerFrame +\"s.csv\"\n"
   ]
  },
  {
   "cell_type": "code",
   "execution_count": 4,
   "metadata": {},
   "outputs": [
    {
     "name": "stdout",
     "output_type": "stream",
     "text": [
      "Generating frames of 6000 samples (60s.) long. \n",
      "OUTPUTFILE =frames-a02_60s.csv\n"
     ]
    }
   ],
   "source": [
    "println(\"Generating frames of \" + samplesPerFrame + \" samples (\" + \n",
    "        + secondPerFrame + \"s.) long. \")\n",
    "        println(\"OUTPUTFILE =\" + framesFileName)"
   ]
  },
  {
   "cell_type": "code",
   "execution_count": 5,
   "metadata": {},
   "outputs": [
    {
     "name": "stdout",
     "output_type": "stream",
     "text": [
      "Input file length =6364000\n",
      "nFrames = 530\n"
     ]
    }
   ],
   "source": [
    "\n",
    "\n",
    "//val rawData = sc.textFile(\"/FileStore/tables/gqh5mjl51507524821196/a02.dat\", numPartitions)\n",
    "var inFile =  new File(fileName)\n",
    "var InFileStream = new FileInputStream( inFile )\n",
    "val input : DataInputStream  = new DataInputStream(InFileStream)\n",
    "\n",
    "var frames = scala.collection.mutable.ArrayBuffer.empty[Array[Double]]\n",
    "\n",
    "var pos = 0\n",
    "var available = 0\n",
    "\n",
    "\n",
    "val frameBytes =  samplesPerFrame * 2 // read shorts 2 bytes.\n",
    "val nFrames = inFile.length / frameBytes\n",
    "println(\"Input file length =\" + inFile.length  )\n",
    "println(\"nFrames = \" + nFrames)\n",
    "\n",
    "var dataFrame = Array[Double]()\n",
    "for (  w  <- 1 to nFrames.toInt ) {\n",
    "   dataFrame = new Array[Double](samplesPerFrame)\n",
    "    // new object is need to append at the end!!\n",
    "   for ( i <- 0 until samplesPerFrame) {\n",
    " \n",
    "    val value = input.readShort()   // two bytes\n",
    "    dataFrame( i ) = (value.toDouble * scale) \n",
    "    \n",
    "  }\n",
    "  frames.append(dataFrame)\n",
    "   \n",
    "}\n",
    "input.close()"
   ]
  },
  {
   "cell_type": "code",
   "execution_count": 6,
   "metadata": {
    "collapsed": true
   },
   "outputs": [],
   "source": [
    "val csvFilePath = rootDir + framesFileName\n",
    "// FileWriter\n",
    "\n",
    "val file = new File(csvFilePath)\n",
    "val bw = new BufferedWriter(new FileWriter(file))\n",
    "var line = \"\"\n",
    "for ( f <- frames) {\n",
    "  f.foreach( x => line +=  x.toString + \",\" )\n",
    "  bw.write(line.substring(0,line.length-1) + \"\\n\")\n",
    "  line = \"\"\n",
    " \n",
    "}\n",
    "bw.close()\n",
    "println(csvFilePath + \"Written\")"
   ]
  },
  {
   "cell_type": "code",
   "execution_count": null,
   "metadata": {
    "collapsed": true
   },
   "outputs": [],
   "source": []
  }
 ],
 "metadata": {
  "kernelspec": {
   "display_name": "Apache Toree - Scala",
   "language": "scala",
   "name": "apache_toree_scala"
  },
  "language_info": {
   "file_extension": ".scala",
   "name": "scala",
   "version": "2.11.8"
  }
 },
 "nbformat": 4,
 "nbformat_minor": 2
}
