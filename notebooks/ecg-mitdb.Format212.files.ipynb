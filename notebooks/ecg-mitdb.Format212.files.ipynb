{
 "cells": [
  {
   "cell_type": "code",
   "execution_count": 6,
   "metadata": {},
   "outputs": [],
   "source": [
    "import numpy as np\n",
    "\n",
    "import matplotlib\n",
    "import numpy as np\n",
    "import matplotlib.pyplot as plt\n",
    "import matplotlib.mlab as mlab\n"
   ]
  },
  {
   "cell_type": "markdown",
   "metadata": {},
   "source": [
    "Format 212\n",
    "\n",
    "Each sample is represented by a 12-bit two’s complement amplitude. The first sample is obtained from the 12 least significant bits of the first byte pair (stored least significant byte first). The second sample is formed from the 4 remaining bits of the first byte pair (which are the 4 high bits of the 12-bit sample) and the next byte (which contains the remaining 8 bits of the second sample). The process is repeated for each successive pair of samples. Most of the signal files in PhysioBank are written in format 212.\n",
    "        r = f.read(3)    \n",
    "        a = ( ((r[1] & u4mask)) << 4 )+ r[0]\n",
    "        \n",
    "        b = \n",
    "\n"
   ]
  },
  {
   "cell_type": "code",
   "execution_count": null,
   "metadata": {},
   "outputs": [],
   "source": [
    "#filename =\"./inputs/100.dat\"\n",
    "filename =\"./inputs/105.dat\"\n",
    "size = 1\n",
    "items=10000\n",
    "s1=[]\n",
    "s2=[]\n",
    "recs =[]\n",
    "u4mask = 0xf0\n",
    "l4mask = 0x0f\n",
    "with open( filename,\"br\") as f:\n",
    "    r = f.read(3)  \n",
    "    while len(r) == 3:\n",
    "        recs.append(r)\n",
    "        a = ( ((r[1] & l4mask)) << 8 )+ r[0]\n",
    "        b = ( (r[1] & u4mask )<< 4) + r[2]\n",
    "        s1.append(a)\n",
    "        s2.append(b)\n",
    "        r = f.read(3)  \n",
    "\"%x %x\"%(s1[0], s2[0])"
   ]
  },
  {
   "cell_type": "code",
   "execution_count": null,
   "metadata": {},
   "outputs": [],
   "source": [
    "s = np.array(s1,dtype=np.uint16)\n",
    "s.tofile(\"105s1.dat\")"
   ]
  },
  {
   "cell_type": "code",
   "execution_count": null,
   "metadata": {},
   "outputs": [],
   "source": []
  },
  {
   "cell_type": "code",
   "execution_count": null,
   "metadata": {},
   "outputs": [],
   "source": [
    "for i, s1 in enumerate(s1[0:100]):\n",
    "    print (i,recs[i],\"%x %x\"%(s1[i], recs[i][1]))"
   ]
  },
  {
   "cell_type": "code",
   "execution_count": null,
   "metadata": {},
   "outputs": [],
   "source": [
    "len(samples)"
   ]
  },
  {
   "cell_type": "code",
   "execution_count": null,
   "metadata": {},
   "outputs": [],
   "source": [
    "print( \"%x\"%995, \"%x\"%1011 , \"%x\"%1000, '%x'%1008\n",
    "     )\n",
    "bin(995)"
   ]
  },
  {
   "cell_type": "code",
   "execution_count": null,
   "metadata": {},
   "outputs": [],
   "source": [
    "x1 = 0\n",
    "x2 = 1000\n",
    "l = len(s1)\n",
    "x = range(00,l)\n",
    "fig, ax = plt.subplots(2,1,figsize=(20,10))\n",
    "#ax[0].plot(x, samples[0],\"green\")\n",
    "ax[0].plot(x[x1:x2], s1[x1:x2], 'gray', linewidth=1)\n",
    "ax[1].plot(x[x1:x2], s2[x1:x2], 'gray', linewidth=1)\n",
    "\n",
    "display(fig)"
   ]
  },
  {
   "cell_type": "code",
   "execution_count": null,
   "metadata": {},
   "outputs": [],
   "source": [
    "\n",
    "\n",
    "\n",
    "filename =\"./inputs/100.txt\"\n",
    "size = 10000\n",
    "items=10\n",
    "s1=[]\n",
    "s2=[]\n",
    "c=[]\n",
    "with open( filename,\"r\") as f:\n",
    "    lines = f.readlines()\n",
    "    for line in lines:\n",
    "        split = line.split(\"\\t\") \n",
    "        s1 .append( int(split[1]))\n",
    "        s2.append( int(split[2][:-1]))\n",
    "        c.append (int(split[1]) - int(split[2][:-1]))"
   ]
  },
  {
   "cell_type": "code",
   "execution_count": null,
   "metadata": {},
   "outputs": [],
   "source": [
    "len(s1)"
   ]
  },
  {
   "cell_type": "code",
   "execution_count": null,
   "metadata": {},
   "outputs": [],
   "source": [
    "for i, s in enumerate(samples[0:1000]):\n",
    "    if s != s1[i]:\n",
    "        print (i,recs[i] ,\"%x ////%x %x\"%(s,s1[i],s2[i]))"
   ]
  },
  {
   "cell_type": "code",
   "execution_count": null,
   "metadata": {},
   "outputs": [],
   "source": [
    "x1 = 0\n",
    "x2 = 1000\n",
    "l = len(s1)\n",
    "x = range(00,l)\n",
    "\n",
    "fig, ax = plt.subplots(2,1,figsize=(20,10))\n",
    "#ax[0].plot(x, samples[0],\"green\")\n",
    "ax[0].plot(x[x1:x2], s1[x1:x2], 'gray', linewidth=1)\n",
    "ax[1].plot(x[x1:x2], s2[x1:x2], 'gray', linewidth=1)\n",
    "\n",
    "display(fig)"
   ]
  },
  {
   "cell_type": "code",
   "execution_count": null,
   "metadata": {},
   "outputs": [],
   "source": [
    "s1.tobytes"
   ]
  },
  {
   "cell_type": "code",
   "execution_count": null,
   "metadata": {},
   "outputs": [],
   "source": [
    "a = np.array((1,2),  dtype=np.uint16)"
   ]
  },
  {
   "cell_type": "code",
   "execution_count": null,
   "metadata": {},
   "outputs": [],
   "source": [
    "a"
   ]
  },
  {
   "cell_type": "code",
   "execution_count": null,
   "metadata": {},
   "outputs": [],
   "source": [
    "b = np.empty(shape=1,dtype='u2')"
   ]
  },
  {
   "cell_type": "code",
   "execution_count": null,
   "metadata": {},
   "outputs": [],
   "source": [
    "b"
   ]
  },
  {
   "cell_type": "code",
   "execution_count": null,
   "metadata": {},
   "outputs": [],
   "source": []
  },
  {
   "cell_type": "code",
   "execution_count": null,
   "metadata": {},
   "outputs": [],
   "source": [
    "c = np.append(a,b)"
   ]
  },
  {
   "cell_type": "code",
   "execution_count": null,
   "metadata": {},
   "outputs": [],
   "source": [
    "c.tofile(\"kk\")"
   ]
  },
  {
   "cell_type": "code",
   "execution_count": null,
   "metadata": {},
   "outputs": [],
   "source": [
    "bytes(c)"
   ]
  },
  {
   "cell_type": "code",
   "execution_count": null,
   "metadata": {},
   "outputs": [],
   "source": [
    "np.to"
   ]
  },
  {
   "cell_type": "code",
   "execution_count": 5,
   "metadata": {},
   "outputs": [],
   "source": [
    "s1=np.zeros(1,dtype=np.uint16)"
   ]
  },
  {
   "cell_type": "code",
   "execution_count": 6,
   "metadata": {},
   "outputs": [
    {
     "data": {
      "text/plain": [
       "array([0], dtype=uint16)"
      ]
     },
     "execution_count": 6,
     "metadata": {},
     "output_type": "execute_result"
    }
   ],
   "source": [
    "s1"
   ]
  },
  {
   "cell_type": "code",
   "execution_count": 10,
   "metadata": {},
   "outputs": [],
   "source": [
    "s1=np.append(s1,2)"
   ]
  },
  {
   "cell_type": "code",
   "execution_count": 12,
   "metadata": {},
   "outputs": [
    {
     "data": {
      "text/plain": [
       "array([0, 2, 2])"
      ]
     },
     "execution_count": 12,
     "metadata": {},
     "output_type": "execute_result"
    }
   ],
   "source": [
    "s1\n"
   ]
  },
  {
   "cell_type": "code",
   "execution_count": null,
   "metadata": {},
   "outputs": [],
   "source": []
  },
  {
   "cell_type": "code",
   "execution_count": null,
   "metadata": {},
   "outputs": [],
   "source": []
  },
  {
   "cell_type": "code",
   "execution_count": null,
   "metadata": {},
   "outputs": [],
   "source": []
  }
 ],
 "metadata": {
  "kernelspec": {
   "display_name": "Python 3",
   "language": "python",
   "name": "python3"
  },
  "language_info": {
   "codemirror_mode": {
    "name": "ipython",
    "version": 3
   },
   "file_extension": ".py",
   "mimetype": "text/x-python",
   "name": "python",
   "nbconvert_exporter": "python",
   "pygments_lexer": "ipython3",
   "version": "3.6.3"
  }
 },
 "nbformat": 4,
 "nbformat_minor": 2
}
