{
 "cells": [
  {
   "cell_type": "markdown",
   "metadata": {},
   "source": [
    "##  Graph a coded frame sample"
   ]
  },
  {
   "cell_type": "code",
   "execution_count": 2,
   "metadata": {},
   "outputs": [],
   "source": [
    "\n",
    "import matplotlib\n",
    "import numpy as np\n",
    "import matplotlib.pyplot as plt\n",
    "import matplotlib.mlab as mlab\n"
   ]
  },
  {
   "cell_type": "code",
   "execution_count": null,
   "metadata": {},
   "outputs": [],
   "source": [
    "scale = 1/200.0\n",
    "samplesPerSecond = 360\n",
    "\n",
    "WINDOW = 120   # 32 or 40 samples per window\n",
    "WindowsPerFrame = 30 # 32 or 150 \n",
    "\n",
    "\n",
    "samplesPerFrame = WindowsPerFrame * WINDOW\n",
    "secondPerFrame = samplesPerFrame // samplesPerSecond\n",
    "\n",
    "inputDataFile = \"105s1.dat\"\n",
    "#inputDataFile = \"a02.dat\"\n",
    "\n",
    "framesPath = \"/user/fsainz/data/out/framesCoded-\"+ inputDataFile.split('.')[0] + \"_\" + str(secondPerFrame) + \"sLE/\"\n"
   ]
  },
  {
   "cell_type": "code",
   "execution_count": null,
   "metadata": {},
   "outputs": [],
   "source": [
    "print(\"Procesing: \"+ framesPath)"
   ]
  },
  {
   "cell_type": "code",
   "execution_count": null,
   "metadata": {},
   "outputs": [],
   "source": [
    "eventsStrRdd = sc.textFile(framesPath).map(lambda line: line[:-1].split(\";\"))"
   ]
  },
  {
   "cell_type": "code",
   "execution_count": null,
   "metadata": {},
   "outputs": [],
   "source": [
    "item=2\n",
    "strsamples = eventsStrRdd.take(item+1)"
   ]
  },
  {
   "cell_type": "code",
   "execution_count": null,
   "metadata": {},
   "outputs": [],
   "source": []
  },
  {
   "cell_type": "code",
   "execution_count": null,
   "metadata": {},
   "outputs": [],
   "source": [
    "sample = [ list(map(lambda x: float(x), i.split(','))) for i in strsamples[item]]"
   ]
  },
  {
   "cell_type": "code",
   "execution_count": null,
   "metadata": {},
   "outputs": [],
   "source": [
    "\n",
    "\n",
    "print( np.max(sample[0]),  np.max(sample[1]),  np.max(np.abs(sample[2]) ))"
   ]
  },
  {
   "cell_type": "code",
   "execution_count": null,
   "metadata": {
    "scrolled": true
   },
   "outputs": [],
   "source": [
    "\n",
    "l = len(sample[1])\n",
    "x = range(00,l)\n",
    "fig, ax = plt.subplots(3,1, sharex=True,figsize=(20,6))\n",
    "ax[0].plot(x, sample[0],\"green\")\n",
    "ax[1].plot(x, sample[1], 'gray', linewidth=1)\n",
    "ax[2].plot(x, sample[2], 'gray', linewidth=1)\n",
    "display(fig)\n"
   ]
  },
  {
   "cell_type": "code",
   "execution_count": null,
   "metadata": {},
   "outputs": [],
   "source": [
    "\n",
    "\n",
    "x1 =500\n",
    "x2 =1200\n",
    "\n",
    "l = len(sample[0][x1:x2])\n",
    "x = range(x1,x2)\n",
    "fig, ax = plt.subplots(3,1, sharex=True,figsize=(20,6))\n",
    "ax[0].plot(x, sample[0][x1:x2],\"green\")\n",
    "ax[0].plot(x, sample[1][x1:x2], 'gray', linewidth=1)\n",
    "ax[2].plot(x, sample[2][x1:x2], 'gray', linewidth=1)\n",
    "display(fig)"
   ]
  },
  {
   "cell_type": "code",
   "execution_count": null,
   "metadata": {},
   "outputs": [],
   "source": [
    "\n",
    "\n",
    "x1 = 1\n",
    "x2 = 500\n",
    "l = len(sample[0][0][x1:x2])\n",
    "x = range(x1,x2)\n",
    "fig, ax = plt.subplots(2,1, sharex=True,figsize=(20,6))\n",
    "ax[0].plot(x, sample[0][x1:x2],\"green\")\n",
    "ax[0].plot(x, sample[1][x1:x2], 'gray', linewidth=1)\n",
    "ax[1].plot(x, sample[2][x1:x2], 'gray', linewidth=1)\n",
    "display(fig)"
   ]
  },
  {
   "cell_type": "code",
   "execution_count": null,
   "metadata": {},
   "outputs": [],
   "source": [
    "0xfffc\n"
   ]
  },
  {
   "cell_type": "markdown",
   "metadata": {},
   "source": [
    "## Graph tapering function"
   ]
  },
  {
   "cell_type": "code",
   "execution_count": 4,
   "metadata": {},
   "outputs": [],
   "source": [
    "wSize = 120\n",
    "x = np.array(range(wSize))\n",
    "wf = np.sin(np.pi*x/(wSize-1)) **2"
   ]
  },
  {
   "cell_type": "code",
   "execution_count": 5,
   "metadata": {},
   "outputs": [
    {
     "data": {
      "text/plain": [
       "array([  0,   1,   2,   3,   4,   5,   6,   7,   8,   9,  10,  11,  12,\n",
       "        13,  14,  15,  16,  17,  18,  19,  20,  21,  22,  23,  24,  25,\n",
       "        26,  27,  28,  29,  30,  31,  32,  33,  34,  35,  36,  37,  38,\n",
       "        39,  40,  41,  42,  43,  44,  45,  46,  47,  48,  49,  50,  51,\n",
       "        52,  53,  54,  55,  56,  57,  58,  59,  60,  61,  62,  63,  64,\n",
       "        65,  66,  67,  68,  69,  70,  71,  72,  73,  74,  75,  76,  77,\n",
       "        78,  79,  80,  81,  82,  83,  84,  85,  86,  87,  88,  89,  90,\n",
       "        91,  92,  93,  94,  95,  96,  97,  98,  99, 100, 101, 102, 103,\n",
       "       104, 105, 106, 107, 108, 109, 110, 111, 112, 113, 114, 115, 116,\n",
       "       117, 118, 119])"
      ]
     },
     "execution_count": 5,
     "metadata": {},
     "output_type": "execute_result"
    }
   ],
   "source": [
    "x"
   ]
  },
  {
   "cell_type": "code",
   "execution_count": 7,
   "metadata": {},
   "outputs": [
    {
     "data": {
      "image/png": "[encoded data removed]",
      "text/plain": [
       "<matplotlib.figure.Figure at 0x7fb3a87ffb00>"
      ]
     },
     "metadata": {},
     "output_type": "display_data"
    }
   ],
   "source": [
    "\n",
    "fig = plt.figure(figsize=(3, 3))\n",
    "plt.plot(x, wf,\"green\")\n",
    "\n",
    "#ax.set_xlabel('Year'), ax.set_ylabel('Count')\n",
    "display(fig) "
   ]
  },
  {
   "cell_type": "markdown",
   "metadata": {},
   "source": [
    "Propiedad de la funcion de Hann\n",
    "$$ h = w(n) para n -> [0,N/2) $$  \n",
    "$$h' = w(N/2 - n) para n -> [N/2, N] $$\n",
    "$$ =>   h + h' = 1\n",
    "$$\n"
   ]
  },
  {
   "cell_type": "code",
   "execution_count": 9,
   "metadata": {},
   "outputs": [],
   "source": [
    "\n",
    "h2 =np.sin(np.pi*(wSize//2-x)/(wSize-1)) **2"
   ]
  },
  {
   "cell_type": "code",
   "execution_count": 10,
   "metadata": {},
   "outputs": [
    {
     "data": {
      "image/png": "[encoded data removed]",
      "text/plain": [
       "<matplotlib.figure.Figure at 0x7fb3a86ddc88>"
      ]
     },
     "metadata": {},
     "output_type": "display_data"
    }
   ],
   "source": [
    "\n",
    "fig = plt.figure(figsize=(13, 3))\n",
    "plt.plot(x, wf,\"green\")\n",
    "plt.plot(x, h2,\"green\")\n",
    "plt.plot(x, wf+h2)\n",
    "#ax.set_xlabel('Year'), ax.set_ylabel('Count')\n",
    "display(fig) "
   ]
  },
  {
   "cell_type": "code",
   "execution_count": null,
   "metadata": {},
   "outputs": [],
   "source": []
  },
  {
   "cell_type": "code",
   "execution_count": null,
   "metadata": {},
   "outputs": [],
   "source": []
  },
  {
   "cell_type": "code",
   "execution_count": null,
   "metadata": {},
   "outputs": [],
   "source": []
  }
 ],
 "metadata": {
  "kernelspec": {
   "display_name": "Python 3",
   "language": "python",
   "name": "python3"
  },
  "language_info": {
   "codemirror_mode": {
    "name": "ipython",
    "version": 3
   },
   "file_extension": ".py",
   "mimetype": "text/x-python",
   "name": "python",
   "nbconvert_exporter": "python",
   "pygments_lexer": "ipython3",
   "version": "3.6.3"
  }
 },
 "nbformat": 4,
 "nbformat_minor": 2
}
