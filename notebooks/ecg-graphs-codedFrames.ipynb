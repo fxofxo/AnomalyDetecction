{
 "cells": [
  {
   "cell_type": "markdown",
   "metadata": {},
   "source": [
    "## 04. Graph coded frames"
   ]
  },
  {
   "cell_type": "code",
   "execution_count": null,
   "metadata": {},
   "outputs": [],
   "source": [
    "\n",
    "import matplotlib\n",
    "import numpy as np\n",
    "import matplotlib.pyplot as plt\n",
    "import matplotlib.mlab as mlab\n",
    "sc.version"
   ]
  },
  {
   "cell_type": "code",
   "execution_count": null,
   "metadata": {},
   "outputs": [],
   "source": [
    "scale = 1/200.0\n",
    "\n",
    "codedFramesRootPath = \"/user/fsainz/data/out/coded/\"\n",
    "#frame2graph = \"2018/01/03/11/37/38-41858570\"\n",
    "frame2graph = \"2018/01/03/11/41/56-42116913\"\n",
    "labeledFrames = \"/user/fsainz/data/input/labeled\"\n",
    "\n",
    "filesPath = codedFramesRootPath + frame2graph"
   ]
  },
  {
   "cell_type": "code",
   "execution_count": null,
   "metadata": {},
   "outputs": [],
   "source": [
    "print(\"Procesing: \" + filesPath )"
   ]
  },
  {
   "cell_type": "markdown",
   "metadata": {},
   "source": [
    "## Read labeled files and coded frames"
   ]
  },
  {
   "cell_type": "code",
   "execution_count": null,
   "metadata": {},
   "outputs": [],
   "source": [
    "labelsRdd = sc.textFile(labeledFrames).map(lambda x: x.split(',')).map(lambda x: (int(x[0]), x[1]))\n",
    "labelsRdd.count()\n"
   ]
  },
  {
   "cell_type": "code",
   "execution_count": null,
   "metadata": {},
   "outputs": [],
   "source": [
    "labelsRdd.take(10)"
   ]
  },
  {
   "cell_type": "code",
   "execution_count": null,
   "metadata": {
    "collapsed": true
   },
   "outputs": [],
   "source": [
    "eventsStrRdd = sc.textFile(filesPath)"
   ]
  },
  {
   "cell_type": "code",
   "execution_count": null,
   "metadata": {
    "collapsed": true
   },
   "outputs": [],
   "source": [
    "eventsStrRdd.count\n",
    "e = eventsStrRdd.first()"
   ]
  },
  {
   "cell_type": "code",
   "execution_count": null,
   "metadata": {
    "collapsed": true
   },
   "outputs": [],
   "source": []
  },
  {
   "cell_type": "code",
   "execution_count": null,
   "metadata": {
    "collapsed": true
   },
   "outputs": [],
   "source": [
    "def getFields( line ):\n",
    "    line = line[1:-1]  # get rid of parenthesis\n",
    "    line = line.split(';')\n",
    "    #ret = ret.split(',')\n",
    "    srcFrame =  list(map(  lambda x: float(x) , line[1].split(',')))\n",
    "    codedFrame =list(map( lambda x: float(x) , line[2].split(',')))\n",
    "    lossFrame = list(map( lambda x: float(x) , line[3].split(',')))\n",
    "    ret = line[0].split(',')\n",
    "    ret = ret[:-1]\n",
    "    ret.extend([srcFrame,codedFrame,lossFrame])\n",
    "    ret[1] = float(ret[1])\n",
    "    ret[2] = int(float(ret[2]))\n",
    "    ret[3] = float(ret[3])\n",
    "    ret[0], ret[2] = ret[2],ret[0]\n",
    "    return ret\n",
    "    # return (ret, srcFrame, codedFrame, lossFrame)"
   ]
  },
  {
   "cell_type": "code",
   "execution_count": null,
   "metadata": {
    "collapsed": true
   },
   "outputs": [],
   "source": [
    "codedframesRdd = eventsStrRdd.map( lambda x: getFields(x)   ).map( lambda x: (x[0],x[1:]))"
   ]
  },
  {
   "cell_type": "code",
   "execution_count": null,
   "metadata": {
    "collapsed": true
   },
   "outputs": [],
   "source": []
  },
  {
   "cell_type": "code",
   "execution_count": null,
   "metadata": {
    "collapsed": true
   },
   "outputs": [],
   "source": [
    "codedlabeledRdd= codedframesRdd.join(labelsRdd).map( lambda x: (x[0], x[1][1], x[1][0][4],x[1][0][5],x[1][0][6] ))"
   ]
  },
  {
   "cell_type": "code",
   "execution_count": null,
   "metadata": {},
   "outputs": [],
   "source": [
    "codedlabeledRdd.first()\n"
   ]
  },
  {
   "cell_type": "markdown",
   "metadata": {},
   "source": [
    "## Trigger selecction (offline)"
   ]
  },
  {
   "cell_type": "code",
   "execution_count": null,
   "metadata": {},
   "outputs": [],
   "source": [
    "labeledSamples = codedlabeledRdd.collect()\n",
    "labeledSamples[0][4]"
   ]
  },
  {
   "cell_type": "code",
   "execution_count": null,
   "metadata": {},
   "outputs": [],
   "source": [
    "n = len(labeledSamples)\n",
    "print(n)"
   ]
  },
  {
   "cell_type": "code",
   "execution_count": null,
   "metadata": {},
   "outputs": [],
   "source": [
    "def computeErrors( labeledSamples, trigger):\n",
    "   \n",
    "    LabelPos,LabelNeg,TotalError, FalsePos,FalseNeg = 0,0,0,0,0\n",
    "\n",
    "    for item in labeledSamples:\n",
    "        if item[1] != \"N\":    # \"labeled as anomaly\"\n",
    "            LabelPos += 1\n",
    "            if np.max(item[4]) < trigger : # Detected as anomaly\n",
    "                TotalError += 1\n",
    "                FalsePos += 1\n",
    "        else: \n",
    "            LabelNeg +=1\n",
    "            if np.max(item[4]) >= trigger:  # Labeled as Normal\"\n",
    "                TotalError += 1\n",
    "                FalseNeg += 1\n",
    "\n",
    "\n",
    "    return ( LabelPos, LabelNeg, trigger, TotalError, FalsePos, FalseNeg)\n"
   ]
  },
  {
   "cell_type": "code",
   "execution_count": null,
   "metadata": {},
   "outputs": [],
   "source": [
    "computeErrors(labeledSamples, 0.15)"
   ]
  },
  {
   "cell_type": "code",
   "execution_count": null,
   "metadata": {},
   "outputs": [],
   "source": [
    "trigger = 0.0\n",
    "step = 0.01\n",
    "steps = 100\n",
    "TotalError= []\n",
    "FalsePos  = []\n",
    "FalseNeg  = []\n",
    "Triggers  = []\n",
    "for t in range(100):\n",
    "    e = computeErrors( labeledSamples, trigger)\n",
    "    Triggers.append(e[2])\n",
    "    TotalError.append(e[3])\n",
    "    FalsePos.append(e[4])\n",
    "    FalseNeg.append(e[5])\n",
    "    \n",
    "    trigger += step"
   ]
  },
  {
   "cell_type": "code",
   "execution_count": null,
   "metadata": {},
   "outputs": [],
   "source": [
    "x = Triggers\n",
    "fig, ax = plt.subplots(2,1, sharex=True,figsize=(20,6))\n",
    "\n",
    "ax[0].plot(x, TotalError,\"green\")\n",
    "ax[1].plot(x, FalsePos, 'green', linewidth=1)\n",
    "ax[1].plot(x, FalseNeg, 'green', linewidth=1)\n",
    "display(fig)\n",
    "fig.clear"
   ]
  },
  {
   "cell_type": "code",
   "execution_count": null,
   "metadata": {},
   "outputs": [],
   "source": [
    "MinError = np.min(TotalError)\n",
    "idx = TotalError.index(MinError)\n",
    "t = Triggers[idx]\n",
    "print(\"Min error\", MinError/ n ,\"@\", t)\n"
   ]
  },
  {
   "cell_type": "code",
   "execution_count": null,
   "metadata": {},
   "outputs": [],
   "source": [
    "trigger = 0.33\n",
    "maxItemsDisplay = 20\n",
    "l = len(labeledSamples[1][2])\n",
    "x = range(00,l)\n",
    "\n",
    "\n",
    "samples = codedlabeledRdd.takeSample(False, maxItemsDisplay, 0)\n",
    "maxItemsDisplay\n",
    "nsamples = min(codedframesRdd.count(), maxItemsDisplay)\n",
    "\n",
    "fig, ax = plt.subplots(nsamples,3,figsize=(20,20), gridspec_kw = {'width_ratios':[3,3, 1]})\n",
    "for idx, item in  enumerate( samples):\n",
    "    if item[1] != \"N\":\n",
    "        labelColor = \"Red\"\n",
    "    else:\n",
    "        labelColor = \"green\"\n",
    "        \n",
    "    if np.max(item[4]) > trigger:\n",
    "        lossColor = \"Red\"\n",
    "    else:\n",
    "        lossColor = \"green\"\n",
    "   \n",
    "    ax[idx][0].plot(x, item[2], labelColor)\n",
    "    ax[idx][0].plot(x, item[3], 'gray', linewidth=1)\n",
    "    ax[idx][1].plot(x, item[4], lossColor, linewidth=1)\n",
    "   # the histogram of the data\n",
    "    j, bins, patches = ax[idx][2].hist( item[4], 50, normed=1, facecolor='gray')\n",
    "                                                                                        \n",
    "    \n",
    "display(fig)\n",
    "plt.close()\n"
   ]
  },
  {
   "cell_type": "markdown",
   "metadata": {},
   "source": [
    "##### Graph coded frames RDD"
   ]
  },
  {
   "cell_type": "code",
   "execution_count": null,
   "metadata": {},
   "outputs": [],
   "source": [
    "samples"
   ]
  },
  {
   "cell_type": "code",
   "execution_count": null,
   "metadata": {
    "scrolled": true
   },
   "outputs": [],
   "source": [
    "item=4\n",
    "nsamples = codedframesRdd.count()\n",
    "samples = codedframesRdd.take(10)\n"
   ]
  },
  {
   "cell_type": "code",
   "execution_count": null,
   "metadata": {},
   "outputs": [],
   "source": [
    "samples[item][1][4]"
   ]
  },
  {
   "cell_type": "code",
   "execution_count": null,
   "metadata": {},
   "outputs": [],
   "source": [
    "print(samples[item][0], np.max(samples[item][1][4]),  np.max(samples[item][1][5]),  np.max(samples[item][1][6] ))"
   ]
  },
  {
   "cell_type": "code",
   "execution_count": null,
   "metadata": {
    "scrolled": true
   },
   "outputs": [],
   "source": [
    "\n",
    "l = len(samples[item][1][5])\n",
    "x = range(00,l)\n",
    "\n",
    "fig, ax = plt.subplots(3,1, sharex=True,figsize=(20,6))\n",
    "\n",
    "ax[0].plot(x, samples[item][1][4],\"green\")\n",
    "ax[0].plot(x, samples[item][1][5], 'gray', linewidth=1)\n",
    "ax[2].plot(x, samples[item][1][6], 'gray', linewidth=1)\n",
    "display(fig)\n"
   ]
  },
  {
   "cell_type": "code",
   "execution_count": null,
   "metadata": {},
   "outputs": [],
   "source": [
    "x1,x2 = 1,360\n",
    "l = len(samples[item][1][5][x1:x2])\n",
    "x = range(00,l)\n",
    "\n",
    "fig, ax = plt.subplots(3,1, sharex=True,figsize=(20,6))\n",
    "\n",
    "ax[0].plot(x, samples[item][1][4][x1:x2],\"green\")\n",
    "ax[0].plot(x, samples[item][1][5][x1:x2], 'gray', linewidth=1)\n",
    "ax[2].plot(x, samples[item][1][6][x1:x2], 'gray', linewidth=1)\n",
    "display(fig)\n"
   ]
  },
  {
   "cell_type": "code",
   "execution_count": null,
   "metadata": {
    "collapsed": true
   },
   "outputs": [],
   "source": [
    "plt.close('all') "
   ]
  },
  {
   "cell_type": "code",
   "execution_count": null,
   "metadata": {
    "collapsed": true
   },
   "outputs": [],
   "source": []
  }
 ],
 "metadata": {
  "kernelspec": {
   "display_name": "PySpark",
   "language": "python",
   "name": "pyspark"
  },
  "language_info": {
   "codemirror_mode": {
    "name": "ipython",
    "version": 3
   },
   "file_extension": ".py",
   "mimetype": "text/x-python",
   "name": "python",
   "nbconvert_exporter": "python",
   "pygments_lexer": "ipython3",
   "version": "3.5.4"
  }
 },
 "nbformat": 4,
 "nbformat_minor": 2
}
