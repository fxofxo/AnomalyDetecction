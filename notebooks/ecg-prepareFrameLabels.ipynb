{
 "cells": [
  {
   "cell_type": "markdown",
   "metadata": {},
   "source": [
    "## read labeled text file from mit-arrhytmia db. \n",
    "generated using utility  ../rdann  -r 105 -a atr\n"
   ]
  },
  {
   "cell_type": "code",
   "execution_count": 4,
   "metadata": {
    "collapsed": true
   },
   "outputs": [],
   "source": [
    "import math"
   ]
  },
  {
   "cell_type": "code",
   "execution_count": 5,
   "metadata": {
    "collapsed": true
   },
   "outputs": [],
   "source": [
    "fileId = \"222\"\n",
    "FrameSize= 5 # sec\n",
    "\n",
    "inFilename = \"./data/\" + fileId + \".not\"\n",
    "outFilename = \"./data/\" + fileId + \"-\"+ str(FrameSize) + \"s.not\""
   ]
  },
  {
   "cell_type": "code",
   "execution_count": 6,
   "metadata": {
    "collapsed": true
   },
   "outputs": [],
   "source": [
    " import re\n",
    "m = re.search('(0-90-9:0-90-9:)', 'abcdef')\n",
    "\n",
    "with open(inFilename, \"r\") as f:\n",
    "   a =  [  re.search(\"(\\d*:\\d*.\\d*)(\\s*)(\\d*)(\\s*)(\\D)\", line)              for line in  f.readlines() ]\n",
    "anotations = list(map(lambda x: (x.group(1),x.group(3),x.group(5)),a))"
   ]
  },
  {
   "cell_type": "markdown",
   "metadata": {},
   "source": [
    "# Following code prepare a dataset of labeled frame. \n",
    "Frames could have differents size according processing parameter as windowSize and events per seconds"
   ]
  },
  {
   "cell_type": "code",
   "execution_count": 7,
   "metadata": {},
   "outputs": [],
   "source": [
    "evtSec = 360\n",
    "nEvtFrame = FrameSize * evtSec\n",
    "nAnotations = len(anotations)\n",
    "#take last anatotion to get number of anotated frames\n",
    "nFrames = math.ceil( (int( anotations[-1][1]) )/ nEvtFrame)\n",
    "labels = [ (i*nEvtFrame, \"N\") for i in range(nFrames)]"
   ]
  },
  {
   "cell_type": "code",
   "execution_count": 8,
   "metadata": {},
   "outputs": [
    {
     "data": {
      "text/plain": [
       "362"
      ]
     },
     "execution_count": 8,
     "metadata": {},
     "output_type": "execute_result"
    }
   ],
   "source": [
    "nFrames"
   ]
  },
  {
   "cell_type": "markdown",
   "metadata": {},
   "source": [
    "## Add all anotations for each frame and save de file"
   ]
  },
  {
   "cell_type": "code",
   "execution_count": null,
   "metadata": {
    "collapsed": true
   },
   "outputs": [],
   "source": []
  },
  {
   "cell_type": "code",
   "execution_count": null,
   "metadata": {},
   "outputs": [],
   "source": [
    "  \n",
    "for anot in anotations:\n",
    "    if anot[2] != \"N\":\n",
    "        nFrame = int(anot[1]) // nEvtFrame  \n",
    "        \n",
    "        labels[nFrame] = (labels[nFrame][0], labels[nFrame][1] + anot[2] )\n",
    "        #print (nFrame,   labels[nFrame][0] , labels[ nFrame ][1]) # += anot[2]\n",
    "labels"
   ]
  },
  {
   "cell_type": "code",
   "execution_count": 10,
   "metadata": {},
   "outputs": [
    {
     "name": "stdout",
     "output_type": "stream",
     "text": [
      "file SAVED: ./data/222-5s.not\n"
     ]
    }
   ],
   "source": [
    "with  open(outFilename ,\"w\") as outf: \n",
    "    for label in labels:\n",
    "        outf.write( str(label[0])+ \",\" + label[1] + \"\\n\")\n",
    "outf.close()\n",
    "print( \"file SAVED: \" + outFilename)"
   ]
  },
  {
   "cell_type": "markdown",
   "metadata": {},
   "source": [
    "### Code sniped try to read labeled binary files directly"
   ]
  },
  {
   "cell_type": "code",
   "execution_count": null,
   "metadata": {
    "collapsed": true
   },
   "outputs": [],
   "source": [
    "import os\n",
    "\n",
    "annotLen = 8\n",
    "\n",
    "filename = \"./inputs/a02.apn\"\n",
    "outfile = \"a02.fxo\"\n",
    "# codes found in second byte of 8 bytes anotations files apn.\n",
    "# b'0x20' = b' '  => ANpnea \n",
    "# b'0x00'         => No apnea\n",
    "\n",
    "a2= b'\\x00 \\x00\\xec\\x00\\x00p\\x17'\n",
    "print ( a2[1]== b'\\x20', a2[1]==b'\\x20'[0], a2[1]== 0x20)\n",
    "\n",
    "anpCode = 0x20\n",
    "\n"
   ]
  },
  {
   "cell_type": "code",
   "execution_count": null,
   "metadata": {
    "collapsed": true
   },
   "outputs": [],
   "source": [
    "with open( filename,\"br\") as f, open(outfile,\"w\") as outf:\n",
    "    line = f.read(8)\n",
    "    n = 0\n",
    "    while len(line):\n",
    "        anot = line[1]\n",
    "        if anot == anpCode:\n",
    "            coded = \"A\"\n",
    "        else:\n",
    "            coded = \"N\"\n",
    "        hours  = n /60\n",
    "        minutes= n % 60 \n",
    "        outLine = \"%04d, %07d, %02d:%02d, %c\"%(n,n*6000,hours, minutes ,  coded)\n",
    "        print (outLine)\n",
    "        outf.write(outLine+'\\n')\n",
    "        line = f.read(8)\n",
    "        n += 1\n",
    "        "
   ]
  },
  {
   "cell_type": "code",
   "execution_count": null,
   "metadata": {
    "collapsed": true
   },
   "outputs": [],
   "source": [
    "for i in range(0,22):\n",
    "    print (a[ 8*i:8*i+8] )\n"
   ]
  },
  {
   "cell_type": "code",
   "execution_count": null,
   "metadata": {
    "collapsed": true
   },
   "outputs": [],
   "source": [
    "a2 = a[21*8:21*8+8]\n",
    "a1 = a[20*8:20*8+8]"
   ]
  },
  {
   "cell_type": "code",
   "execution_count": null,
   "metadata": {
    "collapsed": true
   },
   "outputs": [],
   "source": [
    "a2\n"
   ]
  },
  {
   "cell_type": "code",
   "execution_count": null,
   "metadata": {
    "collapsed": true
   },
   "outputs": [],
   "source": []
  },
  {
   "cell_type": "code",
   "execution_count": null,
   "metadata": {
    "collapsed": true
   },
   "outputs": [],
   "source": [
    "b'x20'[0]\n"
   ]
  },
  {
   "cell_type": "code",
   "execution_count": null,
   "metadata": {
    "collapsed": true
   },
   "outputs": [],
   "source": [
    "type(c)"
   ]
  },
  {
   "cell_type": "code",
   "execution_count": null,
   "metadata": {
    "collapsed": true
   },
   "outputs": [],
   "source": [
    "for i in range(0,8):\n",
    "    print(a2[i] , hex(a2[i]))"
   ]
  },
  {
   "cell_type": "code",
   "execution_count": null,
   "metadata": {
    "collapsed": true
   },
   "outputs": [],
   "source": []
  },
  {
   "cell_type": "code",
   "execution_count": null,
   "metadata": {
    "collapsed": true
   },
   "outputs": [],
   "source": [
    "\n",
    "print (a1[i], a2[i])\n"
   ]
  },
  {
   "cell_type": "code",
   "execution_count": null,
   "metadata": {
    "collapsed": true
   },
   "outputs": [],
   "source": [
    "a"
   ]
  },
  {
   "cell_type": "code",
   "execution_count": null,
   "metadata": {
    "collapsed": true
   },
   "outputs": [],
   "source": [
    "a2datsamples = a2datlen /2 "
   ]
  },
  {
   "cell_type": "code",
   "execution_count": null,
   "metadata": {
    "collapsed": true
   },
   "outputs": [],
   "source": [
    "a2datsamples\n"
   ]
  },
  {
   "cell_type": "code",
   "execution_count": null,
   "metadata": {
    "collapsed": true
   },
   "outputs": [],
   "source": [
    "a2datsamples-6000"
   ]
  },
  {
   "cell_type": "code",
   "execution_count": null,
   "metadata": {
    "collapsed": true
   },
   "outputs": [],
   "source": [
    "a2datsamples /6000"
   ]
  },
  {
   "cell_type": "code",
   "execution_count": null,
   "metadata": {
    "collapsed": true
   },
   "outputs": [],
   "source": [
    "8 * 60 + 48"
   ]
  },
  {
   "cell_type": "code",
   "execution_count": null,
   "metadata": {
    "collapsed": true
   },
   "outputs": [],
   "source": [
    "4420/ 530"
   ]
  },
  {
   "cell_type": "markdown",
   "metadata": {},
   "source": [
    "###     ----------------------------------------"
   ]
  },
  {
   "cell_type": "code",
   "execution_count": null,
   "metadata": {
    "collapsed": true
   },
   "outputs": [],
   "source": [
    "os.listdir(\"./inputs/\")"
   ]
  },
  {
   "cell_type": "code",
   "execution_count": null,
   "metadata": {
    "collapsed": true
   },
   "outputs": [],
   "source": [
    "\n",
    "    "
   ]
  },
  {
   "cell_type": "code",
   "execution_count": null,
   "metadata": {
    "collapsed": true
   },
   "outputs": [],
   "source": []
  }
 ],
 "metadata": {
  "kernelspec": {
   "display_name": "Python 3",
   "language": "python",
   "name": "python3"
  },
  "language_info": {
   "codemirror_mode": {
    "name": "ipython",
    "version": 3
   },
   "file_extension": ".py",
   "mimetype": "text/x-python",
   "name": "python",
   "nbconvert_exporter": "python",
   "pygments_lexer": "ipython3",
   "version": "3.5.4"
  }
 },
 "nbformat": 4,
 "nbformat_minor": 2
}
