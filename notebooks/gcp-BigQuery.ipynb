{
 "cells": [
  {
   "cell_type": "code",
   "execution_count": null,
   "metadata": {},
   "outputs": [],
   "source": [
    "sc"
   ]
  },
  {
   "cell_type": "markdown",
   "metadata": {},
   "source": [
    "## BigQuery code snippes\n"
   ]
  },
  {
   "cell_type": "code",
   "execution_count": null,
   "metadata": {
    "collapsed": true
   },
   "outputs": [],
   "source": [
    "import com.google.cloud.hadoop.io.bigquery.BigQueryConfiguration\n",
    "import com.google.cloud.hadoop.io.bigquery.BigQueryFileFormat\n",
    "import com.google.cloud.hadoop.io.bigquery.GsonBigQueryInputFormat\n",
    "import com.google.cloud.hadoop.io.bigquery.output.BigQueryOutputConfiguration\n",
    "import com.google.cloud.hadoop.io.bigquery.output.IndirectBigQueryOutputFormat\n",
    "import com.google.gson.JsonObject\n",
    "import org.apache.hadoop.io.LongWritable\n",
    "import org.apache.hadoop.mapreduce.lib.output.TextOutputFormat"
   ]
  },
  {
   "cell_type": "code",
   "execution_count": null,
   "metadata": {
    "collapsed": true
   },
   "outputs": [],
   "source": [
    "@transient\n",
    "val conf = sc.hadoopConfiguration\n"
   ]
  },
  {
   "cell_type": "code",
   "execution_count": null,
   "metadata": {},
   "outputs": [],
   "source": [
    "\n",
    "\n",
    "// Input parameters.\n",
    "val fullyQualifiedInputTableId = \"publicdata:samples.shakespeare\"\n",
    "val projectId = conf.get(\"fs.gs.project.id\")\n",
    "val bucket = conf.get(\"fs.gs.system.bucket\")\n",
    "\n",
    "println(projectId, bucket)"
   ]
  },
  {
   "cell_type": "code",
   "execution_count": null,
   "metadata": {
    "collapsed": true
   },
   "outputs": [],
   "source": [
    "\n",
    "// Input configuration.\n",
    "conf.set(BigQueryConfiguration.PROJECT_ID_KEY, projectId)\n",
    "conf.set(BigQueryConfiguration.GCS_BUCKET_KEY, bucket)\n",
    "BigQueryConfiguration.configureBigQueryInput(conf, fullyQualifiedInputTableId)\n",
    "\n"
   ]
  },
  {
   "cell_type": "code",
   "execution_count": null,
   "metadata": {
    "collapsed": true
   },
   "outputs": [],
   "source": [
    "// Output parameters.\n",
    "val outputTableId = projectId + \":wordcount_dataset.wordcount_output\"\n",
    "// Temp output bucket that is deleted upon completion of job.\n",
    "val outputGcsPath = (\"gs://\" + bucket + \"/hadoop/tmp/bigquery/wordcountoutput\")\n",
    "\n",
    "// Output configuration.\n",
    "// Let BigQueery auto-detect output schema (set to null below).\n",
    "BigQueryOutputConfiguration.configure(conf,\n",
    "                                      outputTableId,\n",
    "                                      null,\n",
    "                                      outputGcsPath,\n",
    "                                      BigQueryFileFormat.NEWLINE_DELIMITED_JSON,\n",
    "                                      classOf[TextOutputFormat[_,_]])"
   ]
  },
  {
   "cell_type": "code",
   "execution_count": null,
   "metadata": {
    "collapsed": true
   },
   "outputs": [],
   "source": [
    "conf.set(\"mapreduce.job.outputformat.class\",\n",
    "         classOf[IndirectBigQueryOutputFormat[_,_]].getName)"
   ]
  },
  {
   "cell_type": "code",
   "execution_count": null,
   "metadata": {},
   "outputs": [],
   "source": [
    "\n",
    "\n",
    "\n",
    "// Truncate the table before writing output to allow multiple runs.\n",
    "/*\n",
    "conf.set(BigQueryConfiguration.OUTPUT_TABLE_WRITE_DISPOSITION_KEY,\n",
    "         \"WRITE_TRUNCATE\") */\n"
   ]
  },
  {
   "cell_type": "code",
   "execution_count": null,
   "metadata": {
    "collapsed": true
   },
   "outputs": [],
   "source": [
    "\n",
    "// Helper to convert JsonObjects to (word, count) tuples.\n",
    "def convertToTuple(record: JsonObject) : (String, Long) = {\n",
    " \n",
    "  val word = record.get(\"word\").getAsString.toLowerCase\n",
    "  val count = record.get(\"word_count\").getAsLong\n",
    "    \n",
    "  return (word, count)\n",
    "}\n",
    "\n",
    "// Helper to convert (word, count) tuples to JsonObjects.\n",
    "def convertToJson(pair: (String, Long)) : JsonObject = {\n",
    "  val ts = System.currentTimeMillis\n",
    "  val word = pair._1\n",
    "  val count = pair._2\n",
    "  val jsonObject = new JsonObject()\n",
    "  jsonObject.addProperty(\"word\", word)\n",
    "  jsonObject.addProperty(\"word_count\", count)\n",
    "  //jsonObject.addProperty(\"ts\",ts)\n",
    "  return jsonObject\n",
    "}"
   ]
  },
  {
   "cell_type": "code",
   "execution_count": null,
   "metadata": {
    "collapsed": true
   },
   "outputs": [],
   "source": [
    "// Load data from BigQuery.\n",
    "val tableData = sc.newAPIHadoopRDD(\n",
    "    conf,\n",
    "    classOf[GsonBigQueryInputFormat],\n",
    "    classOf[LongWritable],\n",
    "    classOf[JsonObject])\n",
    "\n",
    "// Perform word count.\n",
    "val wordCounts = (tableData\n",
    "    .map(entry => convertToTuple(entry._2))\n",
    "    .reduceByKey(_ + _))\n",
    "\n",
    "// Display 10 results.\n",
    "wordCounts.take(10).filter(x => x._2 > 100).foreach(l => println(l))\n",
    "\n"
   ]
  },
  {
   "cell_type": "code",
   "execution_count": null,
   "metadata": {},
   "outputs": [],
   "source": [
    "wordCounts.sortBy(x => -x._2).take(10).foreach(println)"
   ]
  },
  {
   "cell_type": "code",
   "execution_count": null,
   "metadata": {
    "collapsed": true
   },
   "outputs": [],
   "source": [
    "val small = wordCounts.filter(x => x._2> 26000)"
   ]
  },
  {
   "cell_type": "code",
   "execution_count": null,
   "metadata": {},
   "outputs": [],
   "source": [
    "small.count"
   ]
  },
  {
   "cell_type": "code",
   "execution_count": null,
   "metadata": {
    "collapsed": true
   },
   "outputs": [],
   "source": [
    "// Write data back into a new BigQuery table.\n",
    "// IndirectBigQueryOutputFormat discards keys, so set key to null.\n",
    "(small\n",
    "    .map(pair => (null, convertToJson(pair)))\n",
    "    .saveAsNewAPIHadoopDataset(conf))"
   ]
  },
  {
   "cell_type": "code",
   "execution_count": null,
   "metadata": {
    "collapsed": true
   },
   "outputs": [],
   "source": []
  }
 ],
 "metadata": {
  "kernelspec": {
   "display_name": "Apache Toree - Scala",
   "language": "scala",
   "name": "apache_toree_scala"
  },
  "language_info": {
   "file_extension": ".scala",
   "name": "scala",
   "version": "2.11.8"
  }
 },
 "nbformat": 4,
 "nbformat_minor": 2
}
